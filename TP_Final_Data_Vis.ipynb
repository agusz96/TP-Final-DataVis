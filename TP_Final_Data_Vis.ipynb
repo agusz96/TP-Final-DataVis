{
  "nbformat": 4,
  "nbformat_minor": 0,
  "metadata": {
    "colab": {
      "provenance": [],
      "include_colab_link": true
    },
    "kernelspec": {
      "name": "ir",
      "display_name": "R"
    },
    "language_info": {
      "name": "R"
    }
  },
  "cells": [
    {
      "cell_type": "markdown",
      "metadata": {
        "id": "view-in-github",
        "colab_type": "text"
      },
      "source": [
        "<a href=\"https://colab.research.google.com/github/agusz96/TP-Final-DataVis/blob/main/TP_Final_Data_Vis.ipynb\" target=\"_parent\"><img src=\"https://colab.research.google.com/assets/colab-badge.svg\" alt=\"Open In Colab\"/></a>"
      ]
    },
    {
      "cell_type": "markdown",
      "source": [
        "# Trabajo Práctico Final Visualización de Datos\n",
        "\n",
        "Fecha: 19/12/2024\n",
        "\n",
        "Pablo Alberto Rozenblat y Agustín Ezequiel Zappino\n",
        "\n",
        "Grupo B\n"
      ],
      "metadata": {
        "id": "LJmTbqVUlUYg"
      }
    },
    {
      "cell_type": "markdown",
      "source": [
        "## Introducción"
      ],
      "metadata": {
        "id": "ERdJH407l_g_"
      }
    },
    {
      "cell_type": "markdown",
      "source": [
        "Elegimos trabajar con un conjunto de datos de establecimientos listados en Airbnb dentro de la ciudad de Milán,  proporcionado por https://insideairbnb.com/."
      ],
      "metadata": {
        "id": "A4z-dHoSnA1u"
      }
    },
    {
      "cell_type": "code",
      "source": [
        "library(IRdisplay)\n",
        "gt_url <- \"https://prozenblat14.github.io/ds.02/TPS/TPF/MapaMilan.html\"\n",
        "iframe <- sprintf('<iframe src=\"%s\" width=\"800\" height=\"600px\" frameborder=\"0\"></iframe>', gt_url)\n",
        "display_html(iframe)"
      ],
      "metadata": {
        "colab": {
          "base_uri": "https://localhost:8080/",
          "height": 621
        },
        "id": "-y4UCdzCOTDf",
        "outputId": "df8b38ea-146c-409a-aad8-7fec1208efc5"
      },
      "execution_count": null,
      "outputs": [
        {
          "output_type": "display_data",
          "data": {
            "text/html": [
              "<iframe src=\"https://prozenblat14.github.io/ds.02/TPS/TPF/MapaMilan.html\" width=\"800\" height=\"600px\" frameborder=\"0\"></iframe>"
            ]
          },
          "metadata": {}
        }
      ]
    },
    {
      "cell_type": "markdown",
      "source": [
        "## Descripción del conjunto de datos"
      ],
      "metadata": {
        "id": "2fLzrKvkmSGq"
      }
    },
    {
      "cell_type": "code",
      "source": [
        "milan <- read.csv(\"https://data.insideairbnb.com/italy/lombardy/milan/2024-09-17/visualisations/listings.csv\")\n",
        "dim(milan)"
      ],
      "metadata": {
        "colab": {
          "base_uri": "https://localhost:8080/",
          "height": 34
        },
        "id": "G9Xh-3HyokYZ",
        "outputId": "b39ed244-555d-4809-c5fd-43d2d79111cc"
      },
      "execution_count": null,
      "outputs": [
        {
          "output_type": "display_data",
          "data": {
            "text/html": [
              "<style>\n",
              ".list-inline {list-style: none; margin:0; padding: 0}\n",
              ".list-inline>li {display: inline-block}\n",
              ".list-inline>li:not(:last-child)::after {content: \"\\00b7\"; padding: 0 .5ex}\n",
              "</style>\n",
              "<ol class=list-inline><li>23705</li><li>18</li></ol>\n"
            ],
            "text/markdown": "1. 23705\n2. 18\n\n\n",
            "text/latex": "\\begin{enumerate*}\n\\item 23705\n\\item 18\n\\end{enumerate*}\n",
            "text/plain": [
              "[1] 23705    18"
            ]
          },
          "metadata": {}
        }
      ]
    },
    {
      "cell_type": "markdown",
      "source": [
        "Los datos están actualizados al 17 de septiembre de 2024 y la base cuenta con 23705 registros y 18 variables:\n",
        "*   **id**: Identificador único del Establecimiento.\n",
        "*   **name**: Nombre del Establecimiento.\n",
        "*   **host_id y host_name**: Identificación y nombre del anfitrión.\n",
        "*   **neighbourhood_group y neighbourhood**: Barrio donde se encuentra el establecimiento.\n",
        "*   **latitude y longitude**: Ubicación geográfica del Establecimiento.\n",
        "*   **room_type**: Tipo de habitación ofrecida.\n",
        "*   **price**: Precio por noche.\n",
        "*   **minimum_nights**: Número mínimo de noches para reservar.\n",
        "*   **number_of_reviews**: Total de reseñas recibidas.\n",
        "*   **last_review**: Fecha de la última reseña.\n",
        "*   **reviews_per_month**: Promedio de reseñas por mes.\n",
        "*   **calculated_host_listings_count**: Cantidad de establecimientos publicados por el anfitrión.\n",
        "*   **availability_365**: Días disponibles para ser reservado en los siguientes 365 días.\n",
        "*   **number_of_reviews_ltm**: Cantidad de reseñas en los últimos 12 meses.\n",
        "*   **license**: Licencia.\n",
        "*   **days_last_review**: Cantidad de días desde la última reseña."
      ],
      "metadata": {
        "id": "UWgQGk7p3lP1"
      }
    },
    {
      "cell_type": "markdown",
      "source": [
        "## Análisis Exploratorio de Datos (EDA)"
      ],
      "metadata": {
        "id": "zwE5q1n8wUaX"
      }
    },
    {
      "cell_type": "markdown",
      "source": [
        "Al realizar un summary de la base como primer acercamiento a cada variable podemos observar que la variable *neighbourhood_group* posee todos valores NA, básicamente está vacía, por lo que vamos a excluirla del dataset."
      ],
      "metadata": {
        "id": "5Xe2PMwzo4Ph"
      }
    },
    {
      "cell_type": "code",
      "source": [
        "summary(milan)"
      ],
      "metadata": {
        "colab": {
          "base_uri": "https://localhost:8080/",
          "height": 711
        },
        "id": "QryGdX6fo5ox",
        "outputId": "2f7a2ce3-a19c-4459-bf68-e18178ecf152"
      },
      "execution_count": null,
      "outputs": [
        {
          "output_type": "display_data",
          "data": {
            "text/plain": [
              "       id                name              host_id           host_name        \n",
              " Min.   :6.400e+03   Length:23705       Min.   :     1944   Length:23705      \n",
              " 1st Qu.:4.215e+07   Class :character   1st Qu.: 19673920   Class :character  \n",
              " Median :8.303e+17   Mode  :character   Median : 82647649   Mode  :character  \n",
              " Mean   :6.341e+17                      Mean   :187841700                     \n",
              " 3rd Qu.:1.075e+18                      3rd Qu.:376246294                     \n",
              " Max.   :1.247e+18                      Max.   :652218587                     \n",
              "                                                                              \n",
              " neighbourhood_group neighbourhood         latitude       longitude    \n",
              " Mode:logical        Length:23705       Min.   :45.40   Min.   :9.062  \n",
              " NA's:23705          Class :character   1st Qu.:45.46   1st Qu.:9.170  \n",
              "                     Mode  :character   Median :45.47   Median :9.188  \n",
              "                                        Mean   :45.47   Mean   :9.188  \n",
              "                                        3rd Qu.:45.49   3rd Qu.:9.210  \n",
              "                                        Max.   :45.54   Max.   :9.271  \n",
              "                                                                       \n",
              "  room_type             price       minimum_nights     number_of_reviews\n",
              " Length:23705       Min.   :   14   Min.   :   1.000   Min.   :   0.00  \n",
              " Class :character   1st Qu.:   91   1st Qu.:   1.000   1st Qu.:   2.00  \n",
              " Mode  :character   Median :  130   Median :   2.000   Median :   9.00  \n",
              "                    Mean   :  217   Mean   :   4.097   Mean   :  36.64  \n",
              "                    3rd Qu.:  200   3rd Qu.:   2.000   3rd Qu.:  35.00  \n",
              "                    Max.   :90000   Max.   :1125.000   Max.   :1262.00  \n",
              "                    NA's   :1677                                        \n",
              " last_review        reviews_per_month calculated_host_listings_count\n",
              " Length:23705       Min.   : 0.010    Min.   :  1.00                \n",
              " Class :character   1st Qu.: 0.290    1st Qu.:  1.00                \n",
              " Mode  :character   Median : 0.920    Median :  2.00                \n",
              "                    Mean   : 1.676    Mean   : 33.77                \n",
              "                    3rd Qu.: 2.285    3rd Qu.: 13.00                \n",
              "                    Max.   :28.460    Max.   :512.00                \n",
              "                    NA's   :3978                                    \n",
              " availability_365 number_of_reviews_ltm   license         \n",
              " Min.   :  0.0    Min.   :  0.00        Length:23705      \n",
              " 1st Qu.: 74.0    1st Qu.:  0.00        Class :character  \n",
              " Median :164.0    Median :  3.00        Mode  :character  \n",
              " Mean   :174.4    Mean   : 11.97                          \n",
              " 3rd Qu.:270.0    3rd Qu.: 14.00                          \n",
              " Max.   :365.0    Max.   :361.00                          \n",
              "                                                          "
            ]
          },
          "metadata": {}
        }
      ]
    },
    {
      "cell_type": "code",
      "source": [
        "library(tidyverse)\n",
        "install.packages(\"gridExtra\")\n",
        "library(gridExtra)\n",
        "install.packages(\"sf\")\n",
        "library(sf)"
      ],
      "metadata": {
        "colab": {
          "base_uri": "https://localhost:8080/"
        },
        "id": "vPXTWahuwJfW",
        "outputId": "8c8dca28-8811-4a73-9d09-0da3d2e2c1f2"
      },
      "execution_count": null,
      "outputs": [
        {
          "output_type": "stream",
          "name": "stderr",
          "text": [
            "── \u001b[1mAttaching core tidyverse packages\u001b[22m ──────────────────────── tidyverse 2.0.0 ──\n",
            "\u001b[32m✔\u001b[39m \u001b[34mdplyr    \u001b[39m 1.1.4     \u001b[32m✔\u001b[39m \u001b[34mreadr    \u001b[39m 2.1.5\n",
            "\u001b[32m✔\u001b[39m \u001b[34mforcats  \u001b[39m 1.0.0     \u001b[32m✔\u001b[39m \u001b[34mstringr  \u001b[39m 1.5.1\n",
            "\u001b[32m✔\u001b[39m \u001b[34mggplot2  \u001b[39m 3.5.1     \u001b[32m✔\u001b[39m \u001b[34mtibble   \u001b[39m 3.2.1\n",
            "\u001b[32m✔\u001b[39m \u001b[34mlubridate\u001b[39m 1.9.4     \u001b[32m✔\u001b[39m \u001b[34mtidyr    \u001b[39m 1.3.1\n",
            "\u001b[32m✔\u001b[39m \u001b[34mpurrr    \u001b[39m 1.0.2     \n",
            "── \u001b[1mConflicts\u001b[22m ────────────────────────────────────────── tidyverse_conflicts() ──\n",
            "\u001b[31m✖\u001b[39m \u001b[34mdplyr\u001b[39m::\u001b[32mfilter()\u001b[39m masks \u001b[34mstats\u001b[39m::filter()\n",
            "\u001b[31m✖\u001b[39m \u001b[34mdplyr\u001b[39m::\u001b[32mlag()\u001b[39m    masks \u001b[34mstats\u001b[39m::lag()\n",
            "\u001b[36mℹ\u001b[39m Use the conflicted package (\u001b[3m\u001b[34m<http://conflicted.r-lib.org/>\u001b[39m\u001b[23m) to force all conflicts to become errors\n",
            "Installing package into ‘/usr/local/lib/R/site-library’\n",
            "(as ‘lib’ is unspecified)\n",
            "\n",
            "\n",
            "Attaching package: ‘gridExtra’\n",
            "\n",
            "\n",
            "The following object is masked from ‘package:dplyr’:\n",
            "\n",
            "    combine\n",
            "\n",
            "\n",
            "Installing package into ‘/usr/local/lib/R/site-library’\n",
            "(as ‘lib’ is unspecified)\n",
            "\n",
            "also installing the dependencies ‘proxy’, ‘e1071’, ‘wk’, ‘classInt’, ‘s2’, ‘units’\n",
            "\n",
            "\n",
            "Linking to GEOS 3.11.1, GDAL 3.6.4, PROJ 9.1.1; sf_use_s2() is TRUE\n",
            "\n"
          ]
        }
      ]
    },
    {
      "cell_type": "markdown",
      "source": [
        "Asimismo, para el caso de las variables *price* y *reviews_per_mont* vemos que poseen bastantes registros nulos, por lo que procederemos a eliminarlos ya que no nos interesan establecimientos sin precio o bien sin promedio de reseñas por mes, ya que eso implica que no tuvieron reseñas en su historial, indicando que es muy probable que nunca hayan sido reservados."
      ],
      "metadata": {
        "id": "37--r9AuqK0l"
      }
    },
    {
      "cell_type": "code",
      "source": [
        "milan <- milan %>%\n",
        "  select(-neighbourhood_group) %>%\n",
        "  filter(!is.na(reviews_per_month), !is.na(price))\n",
        "dim(milan)"
      ],
      "metadata": {
        "colab": {
          "base_uri": "https://localhost:8080/",
          "height": 34
        },
        "id": "AU2w2jI5rMlg",
        "outputId": "77669115-0372-4f08-8a78-e4436d49c56b"
      },
      "execution_count": null,
      "outputs": [
        {
          "output_type": "display_data",
          "data": {
            "text/html": [
              "<style>\n",
              ".list-inline {list-style: none; margin:0; padding: 0}\n",
              ".list-inline>li {display: inline-block}\n",
              ".list-inline>li:not(:last-child)::after {content: \"\\00b7\"; padding: 0 .5ex}\n",
              "</style>\n",
              "<ol class=list-inline><li>18434</li><li>17</li></ol>\n"
            ],
            "text/markdown": "1. 18434\n2. 17\n\n\n",
            "text/latex": "\\begin{enumerate*}\n\\item 18434\n\\item 17\n\\end{enumerate*}\n",
            "text/plain": [
              "[1] 18434    17"
            ]
          },
          "metadata": {}
        }
      ]
    },
    {
      "cell_type": "markdown",
      "source": [
        "Otro problema que encontramos es en el tipo de dato para *last_review*, el cual debería ser una fecha y está en formato texto1. Transformarlo a fecha nos va a permitir crear una variable que indique la cantidad de días desde la última reseña, la cual puede ser interesente para analizar su relación con ocupación o precio."
      ],
      "metadata": {
        "id": "c5QLzn9yrsn2"
      }
    },
    {
      "cell_type": "code",
      "source": [
        "milan$last_review <- as.Date(milan$last_review)\n",
        "\n",
        "str(milan$last_review)\n",
        "\n",
        "milan$days_last_review <- as.Date(\"2024-09-17\")-milan$last_review\n",
        "\n",
        "dim(milan)"
      ],
      "metadata": {
        "colab": {
          "base_uri": "https://localhost:8080/",
          "height": 53
        },
        "id": "rFARkgp1ta0h",
        "outputId": "2203d0a2-31d3-4206-f200-4fd35d5417e9"
      },
      "execution_count": null,
      "outputs": [
        {
          "output_type": "stream",
          "name": "stdout",
          "text": [
            " Date[1:18434], format: \"2019-04-13\" \"2024-04-20\" \"2024-08-17\" \"2024-06-22\" \"2022-06-13\" ...\n"
          ]
        },
        {
          "output_type": "display_data",
          "data": {
            "text/html": [
              "<style>\n",
              ".list-inline {list-style: none; margin:0; padding: 0}\n",
              ".list-inline>li {display: inline-block}\n",
              ".list-inline>li:not(:last-child)::after {content: \"\\00b7\"; padding: 0 .5ex}\n",
              "</style>\n",
              "<ol class=list-inline><li>18434</li><li>18</li></ol>\n"
            ],
            "text/markdown": "1. 18434\n2. 18\n\n\n",
            "text/latex": "\\begin{enumerate*}\n\\item 18434\n\\item 18\n\\end{enumerate*}\n",
            "text/plain": [
              "[1] 18434    18"
            ]
          },
          "metadata": {}
        }
      ]
    },
    {
      "cell_type": "markdown",
      "source": [
        "Por último, para variables que son relevantes para nuestras visualizaciones como *price* y *minimum_nights*, optamos por filtrar casos que representan *outliers*, ya que podrían distorsionar el análisis."
      ],
      "metadata": {
        "id": "BX75nlO3wAiO"
      }
    },
    {
      "cell_type": "code",
      "source": [
        "a <- ggplot(milan, aes(y = price)) +\n",
        "    geom_boxplot(fill = \"SteelBlue\", color = \"black\", outlier.colour = \"tomato\",coef = 1.5) +\n",
        "    labs(title = \"Precio por noche\", y = \"Euros\") +\n",
        "    theme_minimal() +\n",
        "    theme(axis.title.y = element_blank(),\n",
        "      axis.text.y = element_blank(),\n",
        "      axis.ticks.y = element_blank()) +\n",
        "    coord_flip()\n",
        "\n",
        "b <- ggplot(milan, aes(y = minimum_nights)) +\n",
        "  geom_boxplot(fill = \"SteelBlue\", color = \"black\", outlier.colour = \"tomato\",coef = 1.5) +\n",
        "  labs(title = \"Mínimo de noches para reservar\", y = \"Días\") +\n",
        "  theme_minimal() +\n",
        "  theme(axis.title.y = element_blank(),\n",
        "    axis.text.y = element_blank(),\n",
        "    axis.ticks.y = element_blank()) +\n",
        "  coord_flip()\n",
        "\n",
        "grid.arrange(a, b, ncol = 2)"
      ],
      "metadata": {
        "colab": {
          "base_uri": "https://localhost:8080/",
          "height": 437
        },
        "id": "ag9K7Ry2ssiO",
        "outputId": "e8a93229-0f68-4e80-ee6b-b877ac069168"
      },
      "execution_count": null,
      "outputs": [
        {
          "output_type": "display_data",
          "data": {
            "text/plain": [
              "plot without title"
            ],
            "image/png": "[encoded data removed]"
          },
          "metadata": {
            "image/png": {
              "width": 420,
              "height": 420
            }
          }
        }
      ]
    },
    {
      "cell_type": "markdown",
      "source": [
        "A su vez, decidimos dejar fuera los casos que poseen una última reseña mayor a 60 días, dado que nos interesa trabajar con los establecimientos que son reservados de manera frecuente por los usuarios de Airbnb.\n"
      ],
      "metadata": {
        "id": "-jsTWjYyxrXO"
      }
    },
    {
      "cell_type": "code",
      "source": [
        "limite_inferiorp <- (quantile(milan$price, 0.25) - IQR(milan$price)*1.5)\n",
        "\n",
        "limite_superiorp <- (quantile(milan$price, 0.75) + IQR(milan$price)*1.5)\n",
        "\n",
        "limite_inferiorn <- (quantile(milan$minimum_nights, 0.25) - IQR(milan$minimum_nights)*1.5)\n",
        "\n",
        "limite_superiorn <- (quantile(milan$minimum_nights, 0.75) + IQR(milan$minimum_nights)*1.5)\n",
        "\n",
        "milan <- milan %>%\n",
        "    filter(price > limite_inferiorp & price < limite_superiorp,\n",
        "         minimum_nights > limite_inferiorn & minimum_nights < limite_superiorn,\n",
        "         days_last_review <= 60)"
      ],
      "metadata": {
        "id": "m9wyd-HGxpK4"
      },
      "execution_count": null,
      "outputs": []
    },
    {
      "cell_type": "code",
      "source": [
        "box_stats <- boxplot(milan$price, plot = FALSE)\n",
        "lower_whisker <- box_stats$stats[1]\n",
        "upper_whisker <- box_stats$stats[5]\n",
        "\n",
        "a1 <- ggplot(milan, aes(x = price)) +\n",
        "  geom_boxplot(fill = \"SteelBlue\", color = \"black\", outlier.colour = \"tomato\", coef = 1.5, outlier.size = 0.25) +\n",
        "  labs(title = \"Precio por noche\") +\n",
        "  theme_minimal() +\n",
        "  theme(\n",
        "    plot.title = element_text(size = 20, face = \"bold\"),\n",
        "    axis.title.y = element_blank(),\n",
        "    axis.text.y = element_blank(),\n",
        "    axis.ticks.y = element_blank(),\n",
        "    axis.title.x = element_blank()) +\n",
        "  geom_segment(aes(x = lower_whisker, xend = lower_whisker, y = -0.15, yend = 0.15),\n",
        "               color = \"black\") +\n",
        "  geom_segment(aes(x = upper_whisker, xend = upper_whisker, y = -0.15, yend = 0.15),\n",
        "               color = \"black\")\n",
        "\n",
        "a2 <- ggplot(milan, aes(x = price)) +\n",
        "  geom_histogram(bins = 35, fill = \"SteelBlue\", color = \"black\") +\n",
        "  labs(x=\"Euros\", y = \"Frecuencia\") +\n",
        "  theme_minimal()"
      ],
      "metadata": {
        "id": "tV1v9ic4t4Mb"
      },
      "execution_count": null,
      "outputs": []
    },
    {
      "cell_type": "code",
      "source": [
        "grid.arrange(a1, a2, ncol = 1, heights = c(5, 10))"
      ],
      "metadata": {
        "colab": {
          "base_uri": "https://localhost:8080/",
          "height": 582
        },
        "id": "Rw5cVV1Xv19B",
        "outputId": "e0724c94-2b99-48e1-f684-1036e36df3d6"
      },
      "execution_count": null,
      "outputs": [
        {
          "output_type": "stream",
          "name": "stderr",
          "text": [
            "Warning message in geom_segment(aes(x = lower_whisker, xend = lower_whisker, y = -0.15, :\n",
            "“\u001b[1m\u001b[22mAll aesthetics have length 1, but the data has 8517 rows.\n",
            "\u001b[36mℹ\u001b[39m Please consider using `annotate()` or provide this layer with data containing\n",
            "  a single row.”\n",
            "Warning message in geom_segment(aes(x = upper_whisker, xend = upper_whisker, y = -0.15, :\n",
            "“\u001b[1m\u001b[22mAll aesthetics have length 1, but the data has 8517 rows.\n",
            "\u001b[36mℹ\u001b[39m Please consider using `annotate()` or provide this layer with data containing\n",
            "  a single row.”\n"
          ]
        },
        {
          "output_type": "display_data",
          "data": {
            "text/plain": [
              "plot without title"
            ],
            "image/png": "[encoded data removed]"
          },
          "metadata": {
            "image/png": {
              "width": 420,
              "height": 420
            }
          }
        }
      ]
    },
    {
      "cell_type": "code",
      "source": [
        "dim(milan)\n",
        "summary(milan)"
      ],
      "metadata": {
        "colab": {
          "base_uri": "https://localhost:8080/",
          "height": 670
        },
        "id": "q6Mx6BIc2uIB",
        "outputId": "bab5cac4-fca0-4390-a882-62e46c46a16d"
      },
      "execution_count": null,
      "outputs": [
        {
          "output_type": "display_data",
          "data": {
            "text/html": [
              "<style>\n",
              ".list-inline {list-style: none; margin:0; padding: 0}\n",
              ".list-inline>li {display: inline-block}\n",
              ".list-inline>li:not(:last-child)::after {content: \"\\00b7\"; padding: 0 .5ex}\n",
              "</style>\n",
              "<ol class=list-inline><li>8517</li><li>18</li></ol>\n"
            ],
            "text/markdown": "1. 8517\n2. 18\n\n\n",
            "text/latex": "\\begin{enumerate*}\n\\item 8517\n\\item 18\n\\end{enumerate*}\n",
            "text/plain": [
              "[1] 8517   18"
            ]
          },
          "metadata": {}
        },
        {
          "output_type": "display_data",
          "data": {
            "text/plain": [
              "       id                name              host_id           host_name        \n",
              " Min.   :4.047e+04   Length:8517        Min.   :     1944   Length:8517       \n",
              " 1st Qu.:5.146e+07   Class :character   1st Qu.: 22680537   Class :character  \n",
              " Median :8.830e+17   Mode  :character   Median :122385480   Mode  :character  \n",
              " Mean   :7.074e+17                      Mean   :210700298                     \n",
              " 3rd Qu.:1.095e+18                      3rd Qu.:426472414                     \n",
              " Max.   :1.243e+18                      Max.   :599019202                     \n",
              " neighbourhood         latitude       longitude      room_type        \n",
              " Length:8517        Min.   :45.40   Min.   :9.070   Length:8517       \n",
              " Class :character   1st Qu.:45.46   1st Qu.:9.172   Class :character  \n",
              " Mode  :character   Median :45.47   Median :9.189   Mode  :character  \n",
              "                    Mean   :45.47   Mean   :9.189                     \n",
              "                    3rd Qu.:45.49   3rd Qu.:9.210                     \n",
              "                    Max.   :45.53   Max.   :9.271                     \n",
              "     price       minimum_nights  number_of_reviews  last_review        \n",
              " Min.   : 18.0   Min.   :1.000   Min.   :   1.00   Min.   :2024-07-19  \n",
              " 1st Qu.: 86.0   1st Qu.:1.000   1st Qu.:  11.00   1st Qu.:2024-08-26  \n",
              " Median :115.0   Median :1.000   Median :  31.00   Median :2024-09-03  \n",
              " Mean   :130.8   Mean   :1.531   Mean   :  71.54   Mean   :2024-08-30  \n",
              " 3rd Qu.:159.0   3rd Qu.:2.000   3rd Qu.:  79.00   3rd Qu.:2024-09-12  \n",
              " Max.   :341.0   Max.   :3.000   Max.   :1262.00   Max.   :2024-09-17  \n",
              " reviews_per_month calculated_host_listings_count availability_365\n",
              " Min.   : 0.020    Min.   :  1.00                 Min.   :  0.0   \n",
              " 1st Qu.: 1.170    1st Qu.:  1.00                 1st Qu.: 79.0   \n",
              " Median : 2.280    Median :  2.00                 Median :160.0   \n",
              " Mean   : 2.936    Mean   : 29.11                 Mean   :173.8   \n",
              " 3rd Qu.: 4.060    3rd Qu.: 12.00                 3rd Qu.:260.0   \n",
              " Max.   :28.460    Max.   :512.00                 Max.   :365.0   \n",
              " number_of_reviews_ltm   license          days_last_review \n",
              " Min.   :  1.00        Length:8517        Length:8517      \n",
              " 1st Qu.:  7.00        Class :character   Class :difftime  \n",
              " Median : 18.00        Mode  :character   Mode  :numeric   \n",
              " Mean   : 26.64                                            \n",
              " 3rd Qu.: 38.00                                            \n",
              " Max.   :361.00                                            "
            ]
          },
          "metadata": {}
        }
      ]
    },
    {
      "cell_type": "markdown",
      "source": [
        "Finalmente, con el dataset procesado, quedaron 8517 registros, un precio mediano por noche de 115 EUR y un rango de mínimo de noches que va de 1 a 3 para los registros que tienen reseñas dentro de los últimos 60 días."
      ],
      "metadata": {
        "id": "jVOsQaUq7-sB"
      }
    },
    {
      "cell_type": "code",
      "source": [
        "barrios <- milan %>%\n",
        "  group_by(neighbourhood) %>%\n",
        "  summarise(\n",
        "  precio_mediana = median(price),\n",
        "  precio_promedio = mean(price),\n",
        "  cantidad_publicaciones = n(),\n",
        "  cantidad_reviews = sum(number_of_reviews_ltm),\n",
        "  anfitrion_publicaciones = max(calculated_host_listings_count),\n",
        "  ocupacion_promedio = mean(availability_365),\n",
        "  ultima_reseña_promedio = mean(milan$days_last_review))\n",
        "\n",
        "  head(barrios,3)"
      ],
      "metadata": {
        "colab": {
          "base_uri": "https://localhost:8080/",
          "height": 192
        },
        "id": "4HhACagud2wP",
        "outputId": "309bae8c-5496-4c6f-9553-9affca35c6e6"
      },
      "execution_count": null,
      "outputs": [
        {
          "output_type": "display_data",
          "data": {
            "text/html": [
              "<table class=\"dataframe\">\n",
              "<caption>A tibble: 3 × 8</caption>\n",
              "<thead>\n",
              "\t<tr><th scope=col>neighbourhood</th><th scope=col>precio_mediana</th><th scope=col>precio_promedio</th><th scope=col>cantidad_publicaciones</th><th scope=col>cantidad_reviews</th><th scope=col>anfitrion_publicaciones</th><th scope=col>ocupacion_promedio</th><th scope=col>ultima_reseña_promedio</th></tr>\n",
              "\t<tr><th scope=col>&lt;chr&gt;</th><th scope=col>&lt;dbl&gt;</th><th scope=col>&lt;dbl&gt;</th><th scope=col>&lt;int&gt;</th><th scope=col>&lt;int&gt;</th><th scope=col>&lt;int&gt;</th><th scope=col>&lt;dbl&gt;</th><th scope=col>&lt;drtn&gt;</th></tr>\n",
              "</thead>\n",
              "<tbody>\n",
              "\t<tr><td>ADRIANO</td><td>90.5</td><td>104.2812</td><td>32</td><td> 495</td><td>145</td><td>194.9062</td><td>17.01961 days</td></tr>\n",
              "\t<tr><td>AFFORI </td><td>93.0</td><td>102.2614</td><td>88</td><td>1861</td><td>302</td><td>180.6591</td><td>17.01961 days</td></tr>\n",
              "\t<tr><td>BAGGIO </td><td>70.0</td><td> 79.2500</td><td>24</td><td> 424</td><td>302</td><td>212.0833</td><td>17.01961 days</td></tr>\n",
              "</tbody>\n",
              "</table>\n"
            ],
            "text/markdown": "\nA tibble: 3 × 8\n\n| neighbourhood &lt;chr&gt; | precio_mediana &lt;dbl&gt; | precio_promedio &lt;dbl&gt; | cantidad_publicaciones &lt;int&gt; | cantidad_reviews &lt;int&gt; | anfitrion_publicaciones &lt;int&gt; | ocupacion_promedio &lt;dbl&gt; | ultima_reseña_promedio &lt;drtn&gt; |\n|---|---|---|---|---|---|---|---|\n| ADRIANO | 90.5 | 104.2812 | 32 |  495 | 145 | 194.9062 | 17.01961 days |\n| AFFORI  | 93.0 | 102.2614 | 88 | 1861 | 302 | 180.6591 | 17.01961 days |\n| BAGGIO  | 70.0 |  79.2500 | 24 |  424 | 302 | 212.0833 | 17.01961 days |\n\n",
            "text/latex": "A tibble: 3 × 8\n\\begin{tabular}{llllllll}\n neighbourhood & precio\\_mediana & precio\\_promedio & cantidad\\_publicaciones & cantidad\\_reviews & anfitrion\\_publicaciones & ocupacion\\_promedio & ultima\\_reseña\\_promedio\\\\\n <chr> & <dbl> & <dbl> & <int> & <int> & <int> & <dbl> & <drtn>\\\\\n\\hline\n\t ADRIANO & 90.5 & 104.2812 & 32 &  495 & 145 & 194.9062 & 17.01961 days\\\\\n\t AFFORI  & 93.0 & 102.2614 & 88 & 1861 & 302 & 180.6591 & 17.01961 days\\\\\n\t BAGGIO  & 70.0 &  79.2500 & 24 &  424 & 302 & 212.0833 & 17.01961 days\\\\\n\\end{tabular}\n",
            "text/plain": [
              "  neighbourhood precio_mediana precio_promedio cantidad_publicaciones\n",
              "1 ADRIANO       90.5           104.2812        32                    \n",
              "2 AFFORI        93.0           102.2614        88                    \n",
              "3 BAGGIO        70.0            79.2500        24                    \n",
              "  cantidad_reviews anfitrion_publicaciones ocupacion_promedio\n",
              "1  495             145                     194.9062          \n",
              "2 1861             302                     180.6591          \n",
              "3  424             302                     212.0833          \n",
              "  ultima_reseña_promedio\n",
              "1 17.01961 days         \n",
              "2 17.01961 days         \n",
              "3 17.01961 days         "
            ]
          },
          "metadata": {}
        }
      ]
    },
    {
      "cell_type": "markdown",
      "source": [
        "Por otro lado, agrupamos los casos por barrios para poder complementar el análisis con una mirada agrupada por sector y vinculamos la geometría de cada uno de ellos para poder graficar en un mapa las distintas métricas."
      ],
      "metadata": {
        "id": "RBjNOyjzm_PM"
      }
    },
    {
      "cell_type": "code",
      "source": [
        "neighbourhoods_geojson <- st_read(\"https://data.insideairbnb.com/italy/lombardy/milan/2024-09-17/visualisations/neighbourhoods.geojson\")\n",
        "neighbourhoods_geojson <- select(neighbourhoods_geojson, -neighbourhood_group)\n",
        "\n",
        "barrios <- barrios %>%\n",
        "  left_join(neighbourhoods_geojson, by = \"neighbourhood\")\n",
        "\n",
        "head(barrios,3)"
      ],
      "metadata": {
        "colab": {
          "base_uri": "https://localhost:8080/",
          "height": 389
        },
        "id": "e9G-9Be9fg64",
        "outputId": "9309b58d-ba63-4746-f701-98572fb36b2a"
      },
      "execution_count": null,
      "outputs": [
        {
          "output_type": "stream",
          "name": "stdout",
          "text": [
            "Reading layer `neighbourhoods' from data source \n",
            "  `https://data.insideairbnb.com/italy/lombardy/milan/2024-09-17/visualisations/neighbourhoods.geojson' \n",
            "  using driver `GeoJSON'\n",
            "Simple feature collection with 88 features and 2 fields\n",
            "Geometry type: MULTIPOLYGON\n",
            "Dimension:     XY\n",
            "Bounding box:  xmin: 9.040587 ymin: 45.38674 xmax: 9.278054 ymax: 45.53597\n",
            "Geodetic CRS:  WGS 84\n"
          ]
        },
        {
          "output_type": "display_data",
          "data": {
            "text/html": [
              "<table class=\"dataframe\">\n",
              "<caption>A tibble: 3 × 9</caption>\n",
              "<thead>\n",
              "\t<tr><th scope=col>neighbourhood</th><th scope=col>precio_mediana</th><th scope=col>precio_promedio</th><th scope=col>cantidad_publicaciones</th><th scope=col>cantidad_reviews</th><th scope=col>anfitrion_publicaciones</th><th scope=col>ocupacion_promedio</th><th scope=col>ultima_reseña_promedio</th><th scope=col>geometry</th></tr>\n",
              "\t<tr><th scope=col>&lt;chr&gt;</th><th scope=col>&lt;dbl&gt;</th><th scope=col>&lt;dbl&gt;</th><th scope=col>&lt;int&gt;</th><th scope=col>&lt;int&gt;</th><th scope=col>&lt;int&gt;</th><th scope=col>&lt;dbl&gt;</th><th scope=col>&lt;drtn&gt;</th><th scope=col>&lt;MULTIPOLYGON [°]&gt;</th></tr>\n",
              "</thead>\n",
              "<tbody>\n",
              "\t<tr><td>ADRIANO</td><td>90.5</td><td>104.2812</td><td>32</td><td> 495</td><td>145</td><td>194.9062</td><td>17.01961 days</td><td>MULTIPOLYGON (((9.255201 45...</td></tr>\n",
              "\t<tr><td>AFFORI </td><td>93.0</td><td>102.2614</td><td>88</td><td>1861</td><td>302</td><td>180.6591</td><td>17.01961 days</td><td>MULTIPOLYGON (((9.182039 45...</td></tr>\n",
              "\t<tr><td>BAGGIO </td><td>70.0</td><td> 79.2500</td><td>24</td><td> 424</td><td>302</td><td>212.0833</td><td>17.01961 days</td><td>MULTIPOLYGON (((9.083465 45...</td></tr>\n",
              "</tbody>\n",
              "</table>\n"
            ],
            "text/markdown": "\nA tibble: 3 × 9\n\n| neighbourhood &lt;chr&gt; | precio_mediana &lt;dbl&gt; | precio_promedio &lt;dbl&gt; | cantidad_publicaciones &lt;int&gt; | cantidad_reviews &lt;int&gt; | anfitrion_publicaciones &lt;int&gt; | ocupacion_promedio &lt;dbl&gt; | ultima_reseña_promedio &lt;drtn&gt; | geometry &lt;MULTIPOLYGON [°]&gt; |\n|---|---|---|---|---|---|---|---|---|\n| ADRIANO | 90.5 | 104.2812 | 32 |  495 | 145 | 194.9062 | 17.01961 days | MULTIPOLYGON (((9.255201 45... |\n| AFFORI  | 93.0 | 102.2614 | 88 | 1861 | 302 | 180.6591 | 17.01961 days | MULTIPOLYGON (((9.182039 45... |\n| BAGGIO  | 70.0 |  79.2500 | 24 |  424 | 302 | 212.0833 | 17.01961 days | MULTIPOLYGON (((9.083465 45... |\n\n",
            "text/latex": "A tibble: 3 × 9\n\\begin{tabular}{lllllllll}\n neighbourhood & precio\\_mediana & precio\\_promedio & cantidad\\_publicaciones & cantidad\\_reviews & anfitrion\\_publicaciones & ocupacion\\_promedio & ultima\\_reseña\\_promedio & geometry\\\\\n <chr> & <dbl> & <dbl> & <int> & <int> & <int> & <dbl> & <drtn> & <MULTIPOLYGON {[}°{]}>\\\\\n\\hline\n\t ADRIANO & 90.5 & 104.2812 & 32 &  495 & 145 & 194.9062 & 17.01961 days & MULTIPOLYGON (((9.255201 45...\\\\\n\t AFFORI  & 93.0 & 102.2614 & 88 & 1861 & 302 & 180.6591 & 17.01961 days & MULTIPOLYGON (((9.182039 45...\\\\\n\t BAGGIO  & 70.0 &  79.2500 & 24 &  424 & 302 & 212.0833 & 17.01961 days & MULTIPOLYGON (((9.083465 45...\\\\\n\\end{tabular}\n",
            "text/plain": [
              "  neighbourhood precio_mediana precio_promedio cantidad_publicaciones\n",
              "1 ADRIANO       90.5           104.2812        32                    \n",
              "2 AFFORI        93.0           102.2614        88                    \n",
              "3 BAGGIO        70.0            79.2500        24                    \n",
              "  cantidad_reviews anfitrion_publicaciones ocupacion_promedio\n",
              "1  495             145                     194.9062          \n",
              "2 1861             302                     180.6591          \n",
              "3  424             302                     212.0833          \n",
              "  ultima_reseña_promedio geometry                      \n",
              "1 17.01961 days          MULTIPOLYGON (((9.255201 45...\n",
              "2 17.01961 days          MULTIPOLYGON (((9.182039 45...\n",
              "3 17.01961 days          MULTIPOLYGON (((9.083465 45..."
            ]
          },
          "metadata": {}
        }
      ]
    },
    {
      "cell_type": "markdown",
      "source": [
        "### Alojamientos y precio"
      ],
      "metadata": {
        "id": "JwCvvJ8TERm9"
      }
    },
    {
      "cell_type": "markdown",
      "source": [
        "En primer lugar, teniendo en cuenta que el precio mediano para un alojamiento publicado en Airbnb en Milán es de 115€, decidimos explorar a través de un mapa como se distribuyen los alojamientos según su precio, pudiendo analizar que las zonas cercanas a medios de transporte como trenes o zonas céntrias de Milán son las que poseen mayor concentración de ellos y a un mayor precio. En estas zonas los precios se acercan bastante al máximo de la distribución, siendo este de 341€."
      ],
      "metadata": {
        "id": "1iYTxQ3ewm7X"
      }
    },
    {
      "cell_type": "code",
      "source": [
        "library(IRdisplay)\n",
        "gt_url <- \"https://agusz96.github.io/milan-airbnb/mapa.html\"\n",
        "iframe <- sprintf('<iframe src=\"%s\" width=\"900\" height=\"700px\" frameborder=\"0\"></iframe>', gt_url)\n",
        "display_html(iframe)"
      ],
      "metadata": {
        "colab": {
          "base_uri": "https://localhost:8080/",
          "height": 721
        },
        "id": "15y1DeOREQY1",
        "outputId": "350be917-a93f-41d7-d59f-bf2d3eb820a2"
      },
      "execution_count": null,
      "outputs": [
        {
          "output_type": "display_data",
          "data": {
            "text/html": [
              "<iframe src=\"https://agusz96.github.io/milan-airbnb/mapa.html\" width=\"900\" height=\"700px\" frameborder=\"0\"></iframe>"
            ]
          },
          "metadata": {}
        }
      ]
    },
    {
      "cell_type": "markdown",
      "source": [
        "Si nos adentramos en el tipo de alojamiento, podemos ver que la amplia mayoría de lo ofertado son departamentos o casas enteras con un 91% de las publicaciones. Una pequeña parte se la llevan las habitaciones privadas con tan solo un 8%."
      ],
      "metadata": {
        "id": "jzQ0BPa01qlq"
      }
    },
    {
      "cell_type": "code",
      "source": [
        "library(IRdisplay)\n",
        "gt_url <- \"https://agusz96.github.io/milan-airbnb/alojamiento.html\"\n",
        "iframe <- sprintf('<iframe src=\"%s\" width=\"800px\" height=\"800px\" frameborder=\"0\"></iframe>', gt_url)\n",
        "display_html(iframe)"
      ],
      "metadata": {
        "colab": {
          "base_uri": "https://localhost:8080/",
          "height": 821
        },
        "id": "dzLzckC11i3o",
        "outputId": "ec3443dc-1d90-40ad-c20e-ce2e20f3adf7"
      },
      "execution_count": null,
      "outputs": [
        {
          "output_type": "display_data",
          "data": {
            "text/html": [
              "<iframe src=\"https://agusz96.github.io/milan-airbnb/alojamiento.html\" width=\"800px\" height=\"800px\" frameborder=\"0\"></iframe>"
            ]
          },
          "metadata": {}
        }
      ]
    },
    {
      "cell_type": "markdown",
      "source": [
        "Asimismo, en el boxplot precendente podemos observar que el 75% de los anfitriones no supera los 4 alojamientos publicados."
      ],
      "metadata": {
        "id": "bIfQroee193o"
      }
    },
    {
      "cell_type": "markdown",
      "source": [
        "Pero, ¿quiénes son los anfitriones que poseen la mayor cantidad de publicaciones?"
      ],
      "metadata": {
        "id": "3s5wdh9YV9FP"
      }
    },
    {
      "cell_type": "code",
      "source": [
        "library(IRdisplay)\n",
        "gt_url <- \"https://agusz96.github.io/milan-airbnb/anfitriones-top.html\"\n",
        "iframe <- sprintf('<iframe src=\"%s\" width=\"1200px\" height=\"800px\" frameborder=\"0\"></iframe>', gt_url)\n",
        "display_html(iframe)"
      ],
      "metadata": {
        "colab": {
          "base_uri": "https://localhost:8080/",
          "height": 821
        },
        "id": "QT3EMjpUVr9m",
        "outputId": "ad12001f-c11d-4a3f-9d21-d5e3b794a880"
      },
      "execution_count": 9,
      "outputs": [
        {
          "output_type": "display_data",
          "data": {
            "text/html": [
              "<iframe src=\"https://agusz96.github.io/milan-airbnb/anfitriones-top.html\" width=\"1200px\" height=\"800px\" frameborder=\"0\"></iframe>"
            ]
          },
          "metadata": {}
        }
      ]
    },
    {
      "cell_type": "markdown",
      "source": [
        "En su mayoría parecen ser agencias, inmobiliarias o empresas dedicadas al rubro del alquiler de viviendas."
      ],
      "metadata": {
        "id": "2TTIyOHIWSjR"
      }
    },
    {
      "cell_type": "code",
      "source": [
        "library(IRdisplay)\n",
        "gt_url <- \"https://prozenblat14.github.io/ds.02/TPS/TPF/graph1.html\"\n",
        "iframe <- sprintf('<iframe src=\"%s\" width=\"800\" height=\"750px\" frameborder=\"0\"></iframe>', gt_url)\n",
        "display_html(iframe)"
      ],
      "metadata": {
        "colab": {
          "base_uri": "https://localhost:8080/",
          "height": 771
        },
        "id": "p-ORBp0K6ft9",
        "outputId": "2c8441d6-061d-459f-8c25-bbabd510746f"
      },
      "execution_count": null,
      "outputs": [
        {
          "output_type": "display_data",
          "data": {
            "text/html": [
              "<iframe src=\"https://prozenblat14.github.io/ds.02/TPS/TPF/graph1.html\" width=\"800\" height=\"750px\" frameborder=\"0\"></iframe>"
            ]
          },
          "metadata": {}
        }
      ]
    },
    {
      "cell_type": "markdown",
      "source": [
        "Con respecto a las diferencias de precio entre tipos de alojamiento, los hoteles concentran los precios más elevados mientras que le siguen las casas o departamentos enteros, aunque con bastantes outliers que en bastantes casos superan los precios de las habitaciones de hotel, y finalmente los más económicos son los alojamientos de habitación privada y compartida."
      ],
      "metadata": {
        "id": "uOiZr4nd2f0e"
      }
    },
    {
      "cell_type": "markdown",
      "source": [
        "### Reseñas y precio"
      ],
      "metadata": {
        "id": "DlbKDytZXhWx"
      }
    },
    {
      "cell_type": "markdown",
      "source": [
        "Si analizamos como se distribuyen los alojamientos en función de la cantidad de reseñas en los últimos 12 meses y su precio por noche, vemos que no hay relación aparente para ningun tipo de alojamentio ofertado."
      ],
      "metadata": {
        "id": "jf1lJWpp_NE3"
      }
    },
    {
      "cell_type": "code",
      "source": [
        "library(IRdisplay)\n",
        "gt_url <- \"https://prozenblat14.github.io/ds.02/TPS/TPF/ReseñaPrecio.html\"\n",
        "iframe <- sprintf('<iframe src=\"%s\" width=\"800\" height=\"700px\" frameborder=\"0\"></iframe>', gt_url)\n",
        "display_html(iframe)"
      ],
      "metadata": {
        "colab": {
          "base_uri": "https://localhost:8080/",
          "height": 721
        },
        "id": "XoVbkx9H_N_w",
        "outputId": "2bf93d7f-7a53-4060-ca64-e8ac342a5229"
      },
      "execution_count": null,
      "outputs": [
        {
          "output_type": "display_data",
          "data": {
            "text/html": [
              "<iframe src=\"https://prozenblat14.github.io/ds.02/TPS/TPF/ReseñaPrecio.html\" width=\"800\" height=\"700px\" frameborder=\"0\"></iframe>"
            ]
          },
          "metadata": {}
        }
      ]
    },
    {
      "cell_type": "markdown",
      "source": [
        "### Métricas por barrio\n"
      ],
      "metadata": {
        "id": "hZQ8WnnQkNa0"
      }
    },
    {
      "cell_type": "markdown",
      "source": [
        "Sin embargo, cuando agrupamos la información por barrios, se observa una correlación positiva entre ambas variables, donde a mayor cantidad de reseñas en el último mes totales, mayor es el precio promedio de los alojamientos ofertados en cada barrio."
      ],
      "metadata": {
        "id": "9aCCF6m3YMu9"
      }
    },
    {
      "cell_type": "code",
      "source": [
        "library(IRdisplay)\n",
        "gt_url <- \"https://agusz96.github.io/milan-airbnb/precio-reviews-barrio.html\"\n",
        "iframe <- sprintf('<iframe src=\"%s\" width=\"1200\" height=\"800px\" frameborder=\"0\"></iframe>', gt_url)\n",
        "display_html(iframe)"
      ],
      "metadata": {
        "colab": {
          "base_uri": "https://localhost:8080/",
          "height": 821
        },
        "id": "O8BoiTcPYRNs",
        "outputId": "0a116492-b5dc-4717-eac0-ed4b8770f9d8"
      },
      "execution_count": null,
      "outputs": [
        {
          "output_type": "display_data",
          "data": {
            "text/html": [
              "<iframe src=\"https://agusz96.github.io/milan-airbnb/precio-reviews-barrio.html\" width=\"1200\" height=\"800px\" frameborder=\"0\"></iframe>"
            ]
          },
          "metadata": {}
        }
      ]
    },
    {
      "cell_type": "markdown",
      "source": [
        "Finalmente, al mapear la información por cada barrio, es más fácil observar como la concentración en el centro de la ciudad se lleva los alojamientos con un precio promedio por noche más elevado, así como la mayor cantidad de concentración de oferta para reservar."
      ],
      "metadata": {
        "id": "Z6336cfnZAw1"
      }
    },
    {
      "cell_type": "code",
      "source": [
        "library(IRdisplay)\n",
        "gt_url <- \"https://agusz96.github.io/milan-airbnb/mapa-barrios.html\"\n",
        "iframe <- sprintf('<iframe src=\"%s\" width=\"1400\" height=\"800px\" frameborder=\"0\"></iframe>', gt_url)\n",
        "display_html(iframe)"
      ],
      "metadata": {
        "colab": {
          "base_uri": "https://localhost:8080/",
          "height": 821
        },
        "id": "Tz2vzCMSinxh",
        "outputId": "47bd7cad-47a6-42e1-fdd1-b587778e5230"
      },
      "execution_count": 22,
      "outputs": [
        {
          "output_type": "display_data",
          "data": {
            "text/html": [
              "<iframe src=\"https://agusz96.github.io/milan-airbnb/mapa-barrios.html\" width=\"1400\" height=\"800px\" frameborder=\"0\"></iframe>"
            ]
          },
          "metadata": {}
        }
      ]
    },
    {
      "cell_type": "markdown",
      "source": [
        "## Conclusiones"
      ],
      "metadata": {
        "id": "hqvbl5wlkTg8"
      }
    },
    {
      "cell_type": "markdown",
      "source": [
        "* Más del 90% de los alojamientos ofertados son Casas o Apartamentos Completos.\n",
        "* Los hoteles concentran los precios más elevados mientras que le siguen las casas o departamentos enteros, aunque con bastantes outliers y finalmenete las habitaciones privadas y compartidas como el tipo de alojamiento más económico.\n",
        "* El 75% de los anfitriones no supera los 4 alojamientos publicados.\n",
        "* Asimismo, los anfitriones con más de 50 alojamientos ofertados, suelen ser agencias, inmobiliarias o empresas dedicadas al rubro del alquiler de viviendas.\n",
        "* En función de la cantidad de reseñas en los últimos 12 meses y su precio por noche, vemos que no hay relación aparente para ningun tipo de alojamentio ofertado. Sin embargo, la relación existe cuando tratamos los alojamientos agrupados por barrio.\n",
        "* A mayor cantidad de reseñas en los últimos 12 meses, mayor es el precio promedio de los alojamientos ofertados en cada barrio.\n",
        "* En el centro de la ciudad se concetran los alojamientos con un precio promedio por noche más elevado, así como la mayor cantidad de oferta para reservar. A medida que uno se aleja hacia las periferias, los precio y la oferta disminuye."
      ],
      "metadata": {
        "id": "6PNoZ0rSinKu"
      }
    }
  ]
}
